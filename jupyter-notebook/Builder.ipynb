{
 "cells": [
  {
   "cell_type": "code",
   "execution_count": 1,
   "metadata": {},
   "outputs": [],
   "source": [
    "public class Person{\n",
    "    int age;\n",
    "    String name;\n",
    "    boolean isMale;\n",
    "    public static class Builder{\n",
    "        int age;\n",
    "        String name;\n",
    "        boolean isMale;\n",
    "        \n",
    "        public Builder(String name){\n",
    "            this.name = name;\n",
    "        }\n",
    "        \n",
    "        public Builder age(int age){\n",
    "            this.age = age;\n",
    "            return this;\n",
    "        }\n",
    "        \n",
    "        public Builder isMale(boolean isMale){\n",
    "            this.isMale = isMale;\n",
    "            return this;\n",
    "        }\n",
    "        \n",
    "        public Person build(){\n",
    "            return new Person(this);\n",
    "        }\n",
    "    }\n",
    "    \n",
    "    private Person(Builder builder){\n",
    "        this.age = builder.age;\n",
    "        this.name = builder.name;\n",
    "        this.isMale = builder.isMale;\n",
    "    }\n",
    "}"
   ]
  },
  {
   "cell_type": "code",
   "execution_count": 2,
   "metadata": {},
   "outputs": [],
   "source": [
    "Person p = new Person.Builder(\"tom\").age(19).isMale(true).build();"
   ]
  },
  {
   "cell_type": "code",
   "execution_count": 3,
   "metadata": {},
   "outputs": [
    {
     "data": {
      "text/plain": [
       "19"
      ]
     },
     "execution_count": 3,
     "metadata": {},
     "output_type": "execute_result"
    }
   ],
   "source": [
    "p.age"
   ]
  },
  {
   "cell_type": "code",
   "execution_count": 4,
   "metadata": {},
   "outputs": [
    {
     "data": {
      "text/plain": [
       "tom"
      ]
     },
     "execution_count": 4,
     "metadata": {},
     "output_type": "execute_result"
    }
   ],
   "source": [
    "p.name"
   ]
  },
  {
   "cell_type": "code",
   "execution_count": 5,
   "metadata": {},
   "outputs": [
    {
     "data": {
      "text/plain": [
       "true"
      ]
     },
     "execution_count": 5,
     "metadata": {},
     "output_type": "execute_result"
    }
   ],
   "source": [
    "p.isMale"
   ]
  }
 ],
 "metadata": {
  "kernelspec": {
   "display_name": "Java",
   "language": "java",
   "name": "java"
  },
  "language_info": {
   "codemirror_mode": "java",
   "file_extension": ".jshell",
   "mimetype": "text/x-java-source",
   "name": "Java",
   "pygments_lexer": "java",
   "version": "9.0.1+11"
  }
 },
 "nbformat": 4,
 "nbformat_minor": 4
}
