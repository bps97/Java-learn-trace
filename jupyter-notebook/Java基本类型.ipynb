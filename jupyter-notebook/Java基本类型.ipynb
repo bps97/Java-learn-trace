{
 "cells": [
  {
   "cell_type": "code",
   "execution_count": 1,
   "metadata": {},
   "outputs": [
    {
     "name": "stdout",
     "output_type": "stream",
     "text": [
      "-2147483648\n",
      "2147483648\n",
      "2147483648\n"
     ]
    }
   ],
   "source": [
    "long l1 = 1L + Integer.MAX_VALUE;\n",
    "System.out.println(1 + Integer.MAX_VALUE);\n",
    "System.out.println(1L + Integer.MAX_VALUE);\n",
    "System.out.println(l1);"
   ]
  },
  {
   "cell_type": "code",
   "execution_count": 3,
   "metadata": {},
   "outputs": [
    {
     "name": "stdout",
     "output_type": "stream",
     "text": [
      "-32768\n",
      "32768\n"
     ]
    }
   ],
   "source": [
    "// short s1 = 1 + Short.MAX_VALUE;  报错\n",
    "short s1 = (short)(1 + Short.MAX_VALUE);\n",
    "System.out.println(s1);\n",
    "System.out.println(1 + Short.MAX_VALUE);"
   ]
  },
  {
   "cell_type": "code",
   "execution_count": null,
   "metadata": {},
   "outputs": [],
   "source": []
  }
 ],
 "metadata": {
  "kernelspec": {
   "display_name": "Java",
   "language": "java",
   "name": "java"
  },
  "language_info": {
   "codemirror_mode": "java",
   "file_extension": ".jshell",
   "mimetype": "text/x-java-source",
   "name": "Java",
   "pygments_lexer": "java",
   "version": "13-ea+33"
  }
 },
 "nbformat": 4,
 "nbformat_minor": 4
}
