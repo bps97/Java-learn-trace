{
 "cells": [
  {
   "cell_type": "code",
   "execution_count": 1,
   "metadata": {},
   "outputs": [],
   "source": [
    "List<String> items =\n",
    "        Arrays.asList(\"apple\", \"apple\", \"banana\",\n",
    "                \"apple\", \"orange\", \"banana\", \"papaya\");"
   ]
  },
  {
   "cell_type": "code",
   "execution_count": 2,
   "metadata": {},
   "outputs": [
    {
     "data": {
      "text/plain": [
       "[apple, apple, banana, apple, orange, banana, papaya]"
      ]
     },
     "execution_count": 2,
     "metadata": {},
     "output_type": "execute_result"
    }
   ],
   "source": [
    "items"
   ]
  },
  {
   "cell_type": "code",
   "execution_count": 3,
   "metadata": {},
   "outputs": [],
   "source": [
    "import java.util.stream.Collectors;\n",
    "import java.util.function.Function;"
   ]
  },
  {
   "cell_type": "code",
   "execution_count": 4,
   "metadata": {},
   "outputs": [],
   "source": [
    "Map<String, List<String>> result1 = items.stream().collect(\n",
    "    Collectors.groupingBy(\n",
    "        Function.identity()))"
   ]
  },
  {
   "cell_type": "code",
   "execution_count": 5,
   "metadata": {},
   "outputs": [
    {
     "data": {
      "text/plain": [
       "{papaya=[papaya], orange=[orange], banana=[banana, banana], apple=[apple, apple, apple]}"
      ]
     },
     "execution_count": 5,
     "metadata": {},
     "output_type": "execute_result"
    }
   ],
   "source": [
    "result1"
   ]
  },
  {
   "cell_type": "code",
   "execution_count": 6,
   "metadata": {},
   "outputs": [],
   "source": [
    "Map<String, Long> result2 = items.stream().collect(\n",
    "    Collectors.groupingBy(\n",
    "        Function.identity(), Collectors.counting()));"
   ]
  },
  {
   "cell_type": "code",
   "execution_count": 7,
   "metadata": {},
   "outputs": [
    {
     "data": {
      "text/plain": [
       "{papaya=1, orange=1, banana=2, apple=3}"
      ]
     },
     "execution_count": 7,
     "metadata": {},
     "output_type": "execute_result"
    }
   ],
   "source": [
    "result2"
   ]
  },
  {
   "cell_type": "code",
   "execution_count": 8,
   "metadata": {},
   "outputs": [],
   "source": [
    "Map<String, Long> finalMap = new LinkedHashMap<>();"
   ]
  },
  {
   "cell_type": "code",
   "execution_count": 9,
   "metadata": {},
   "outputs": [],
   "source": [
    "result2.entrySet().stream()\n",
    "        .sorted(Map.Entry.<String, Long>comparingByValue().reversed())\n",
    "        .forEachOrdered(e -> finalMap.put(e.getKey(), e.getValue()));\n",
    "// {apple=3, banana=2, papaya=1, orange=1}"
   ]
  },
  {
   "cell_type": "code",
   "execution_count": 10,
   "metadata": {},
   "outputs": [
    {
     "data": {
      "text/plain": [
       "{apple=3, banana=2, papaya=1, orange=1}"
      ]
     },
     "execution_count": 10,
     "metadata": {},
     "output_type": "execute_result"
    }
   ],
   "source": [
    "finalMap"
   ]
  },
  {
   "cell_type": "code",
   "execution_count": null,
   "metadata": {},
   "outputs": [],
   "source": []
  },
  {
   "cell_type": "code",
   "execution_count": 11,
   "metadata": {},
   "outputs": [],
   "source": [
    "class User{\n",
    "    String name;\n",
    "    String city;\n",
    "    int age;\n",
    "    public User(String name, String city, int age){\n",
    "        this.name = name;\n",
    "        this.city = city;\n",
    "        this.age = age;\n",
    "    }\n",
    "    String getName(){\n",
    "        return this.name;\n",
    "    }\n",
    "}"
   ]
  },
  {
   "cell_type": "code",
   "execution_count": 12,
   "metadata": {},
   "outputs": [
    {
     "name": "stdout",
     "output_type": "stream",
     "text": [
      "{lisi=[REPL.$JShell$23$User@96063a2], zhangsan=[REPL.$JShell$23$User@21fa50f1, REPL.$JShell$23$User@2209609e]}\n"
     ]
    }
   ],
   "source": [
    "User user1 = new User(\"zhangsan\", \"beijing\", 10);\n",
    "User user2 = new User(\"zhangsan\", \"beijing\", 20);\n",
    "User user3 = new User(\"lisi\", \"shanghai\", 30);\n",
    "List<User> list = new ArrayList<User>();\n",
    "list.add(user1);\n",
    "list.add(user2);\n",
    "list.add(user3);\n",
    "Map<String, List<User>> collect = list.stream()\n",
    "        .collect(\n",
    "                Collectors.groupingBy(\n",
    "                        User::getName/*, Collectors.counting()*/\n",
    "                )\n",
    "        );\n",
    "//{lisi=[User{age=30, name='lisi', address='shanghai'}], \n",
    "// zhangsan=[User{age=10, name='zhangsan', address='beijing'}, User{age=20, name='zhangsan', address='beijing'}]}\n",
    "System.out.println(collect);"
   ]
  },
  {
   "cell_type": "code",
   "execution_count": 13,
   "metadata": {},
   "outputs": [
    {
     "data": {
      "text/plain": [
       "{lisi=[REPL.$JShell$23$User@96063a2], zhangsan=[REPL.$JShell$23$User@21fa50f1, REPL.$JShell$23$User@2209609e]}"
      ]
     },
     "execution_count": 13,
     "metadata": {},
     "output_type": "execute_result"
    }
   ],
   "source": [
    "collect"
   ]
  },
  {
   "cell_type": "code",
   "execution_count": null,
   "metadata": {},
   "outputs": [],
   "source": []
  },
  {
   "cell_type": "code",
   "execution_count": null,
   "metadata": {},
   "outputs": [],
   "source": []
  },
  {
   "cell_type": "code",
   "execution_count": 14,
   "metadata": {},
   "outputs": [],
   "source": [
    "class Demo{\n",
    "    String id;\n",
    "    int count;\n",
    "    public Demo(String id,int count){\n",
    "        this.id = id;\n",
    "        this.count = count;\n",
    "    }\n",
    "    String getId(){\n",
    "        return id;\n",
    "    }\n",
    "    int getCount(){\n",
    "        return count;\n",
    "    }\n",
    "    public String toString(){\n",
    "        return \"(id:\"+id+\",count:\"+count+\")\";\n",
    "    }\n",
    "}"
   ]
  },
  {
   "cell_type": "code",
   "execution_count": 37,
   "metadata": {},
   "outputs": [],
   "source": [
    "List<Demo> demos = new ArrayList<>();\n",
    "List<Demo> demos2= new ArrayList<>();"
   ]
  },
  {
   "cell_type": "code",
   "execution_count": 38,
   "metadata": {},
   "outputs": [
    {
     "data": {
      "text/plain": [
       "true"
      ]
     },
     "execution_count": 38,
     "metadata": {},
     "output_type": "execute_result"
    }
   ],
   "source": [
    "demos.add(new Demo(\"a\",1));\n",
    "demos.add(new Demo(\"b\",2));\n",
    "demos.add(new Demo(\"c\",3));\n",
    "// demos.add(new Demo(\"d\",4));\n",
    "// demos.add(new Demo(\"e\",5));\n",
    "demos.add(new Demo(\"a\",1));\n",
    "demos.add(new Demo(\"b\",2));\n",
    "demos.add(new Demo(\"c\",3));\n",
    "// demos.add(new Demo(\"d\",4));\n",
    "// demos.add(new Demo(\"e\",5));"
   ]
  },
  {
   "cell_type": "code",
   "execution_count": 17,
   "metadata": {},
   "outputs": [
    {
     "data": {
      "text/plain": [
       "[(id:a,count:1), (id:b,count:2), (id:c,count:3), (id:d,count:4), (id:e,count:5)]"
      ]
     },
     "execution_count": 17,
     "metadata": {},
     "output_type": "execute_result"
    }
   ],
   "source": [
    "demos"
   ]
  },
  {
   "cell_type": "code",
   "execution_count": 18,
   "metadata": {},
   "outputs": [
    {
     "data": {
      "text/plain": [
       "{a=1, b=1, c=1, d=1, e=1}"
      ]
     },
     "execution_count": 18,
     "metadata": {},
     "output_type": "execute_result"
    }
   ],
   "source": [
    "demos.stream().collect(Collectors.groupingBy(Demo::getId,Collectors.counting()));"
   ]
  },
  {
   "cell_type": "code",
   "execution_count": 19,
   "metadata": {},
   "outputs": [
    {
     "data": {
      "text/plain": [
       "{a=1, b=2, c=3, d=4, e=5}"
      ]
     },
     "execution_count": 19,
     "metadata": {},
     "output_type": "execute_result"
    }
   ],
   "source": [
    "demos.stream().collect(Collectors.groupingBy(Demo::getId,Collectors.summingInt(Demo::getCount)));"
   ]
  },
  {
   "cell_type": "code",
   "execution_count": 20,
   "metadata": {},
   "outputs": [
    {
     "ename": "IncompleteSourceException",
     "evalue": "demos.stream().collect(Collectors.groupingBy(Demo::getId)).",
     "output_type": "error",
     "traceback": [
      "\u001b[1m\u001b[31mIncomplete input:\u001b[0m",
      "\u001b[1m\u001b[30m|   \u001b[1m\u001b[30mdemos.stream().collect(Collectors.groupingBy(Demo::getId)).\u001b[0m"
     ]
    }
   ],
   "source": [
    "// demos.stream().collect(Collectors.groupingBy(Demo::getId))."
   ]
  },
  {
   "cell_type": "code",
   "execution_count": null,
   "metadata": {},
   "outputs": [],
   "source": []
  },
  {
   "cell_type": "code",
   "execution_count": 21,
   "metadata": {},
   "outputs": [
    {
     "ename": "CompilationException",
     "evalue": "",
     "output_type": "error",
     "traceback": [
      "\u001b[1m\u001b[30m|   \u001b[1m\u001b[30m                .reduce(new Integer\u001b[0m\u001b[1m\u001b[30m\u001b[41m\u001b[0m\u001b[1m\u001b[30m, (all, item ) -> {item; return all;});\u001b[0m",
      "\u001b[1m\u001b[31m需要'('或'['\u001b[0m",
      "",
      "\u001b[1m\u001b[30m|   \u001b[1m\u001b[30m                .reduce(new Integer, (all, item ) -> {\u001b[0m\u001b[1m\u001b[30m\u001b[41mitem\u001b[0m\u001b[1m\u001b[30m; return all;});\u001b[0m",
      "\u001b[1m\u001b[31m不是语句\u001b[0m",
      ""
     ]
    }
   ],
   "source": [
    "// List<List<Integer>> list = new ArrayList<>();\n",
    "//         list.add(Arrays.asList(new Integer[]{1,2}));\n",
    "//         list.add(Arrays.asList(new Integer[]{3,4}));\n",
    "//         list.add(null);\n",
    "//         list.add(Arrays.asList(new Integer[]{4,3,5}));\n",
    "//         List<Integer> result = list.stream()\n",
    "//                 .filter(item-> item != null)\n",
    "//                 .reduce(new Integer, (all, item ) -> {item; return all;});\n",
    "//         System.out.println(result);"
   ]
  },
  {
   "cell_type": "code",
   "execution_count": 22,
   "metadata": {},
   "outputs": [],
   "source": [
    "import java.util.stream.Stream;"
   ]
  },
  {
   "cell_type": "code",
   "execution_count": 23,
   "metadata": {},
   "outputs": [
    {
     "name": "stdout",
     "output_type": "stream",
     "text": [
      "28\n"
     ]
    }
   ],
   "source": [
    "Stream<Integer> stream = Arrays.stream(new Integer[]{1, 2, 3, 4, 5, 6, 7});\n",
    "stream.reduce((i, j) -> i + j).ifPresent(System.out::println);"
   ]
  },
  {
   "cell_type": "code",
   "execution_count": 24,
   "metadata": {},
   "outputs": [
    {
     "name": "stdout",
     "output_type": "stream",
     "text": [
      "1\n"
     ]
    }
   ],
   "source": [
    "Stream<Integer> stream = Arrays.stream(new Integer[]{1, 2, 3, 4, 5, 6, 7});\n",
    "stream.reduce((i, j) -> i > j ? j : i).ifPresent(System.out::println);"
   ]
  },
  {
   "cell_type": "code",
   "execution_count": 25,
   "metadata": {},
   "outputs": [
    {
     "name": "stdout",
     "output_type": "stream",
     "text": [
      "48\n"
     ]
    }
   ],
   "source": [
    "Stream<Integer> stream = Arrays.stream(new Integer[]{1, 2, 3, 4, 5, 6, 7});\n",
    "int result2 = stream.filter(i -> i % 2 == 0).reduce(1, (i, j) -> i * j);\n",
    "\n",
    "Optional.of(result2).ifPresent(System.out::println);"
   ]
  },
  {
   "cell_type": "code",
   "execution_count": 26,
   "metadata": {},
   "outputs": [],
   "source": [
    "demos2 = new ArrayList<>(demos)"
   ]
  },
  {
   "cell_type": "code",
   "execution_count": 27,
   "metadata": {},
   "outputs": [
    {
     "data": {
      "text/plain": [
       "{a=[(id:a,count:1)], b=[(id:b,count:2)], c=[(id:c,count:3)], d=[(id:d,count:4)], e=[(id:e,count:5)]}"
      ]
     },
     "execution_count": 27,
     "metadata": {},
     "output_type": "execute_result"
    }
   ],
   "source": [
    "demos2.stream().collect(Collectors.groupingBy(Demo::getId))"
   ]
  },
  {
   "cell_type": "code",
   "execution_count": 28,
   "metadata": {},
   "outputs": [
    {
     "data": {
      "text/plain": [
       "{a=[(id:a,count:2)], b=[(id:b,count:3)], c=[(id:c,count:4)], d=[(id:d,count:5)], e=[(id:e,count:6)]}"
      ]
     },
     "execution_count": 28,
     "metadata": {},
     "output_type": "execute_result"
    }
   ],
   "source": [
    "demos2.stream().collect(\n",
    "    Collectors.groupingBy(\n",
    "        Demo::getId,\n",
    "        Collectors.mapping(\n",
    "            (Demo d) -> {d.count++;return d;}, \n",
    "            Collectors.toList())));"
   ]
  },
  {
   "cell_type": "code",
   "execution_count": 29,
   "metadata": {},
   "outputs": [
    {
     "ename": "CompilationException",
     "evalue": "",
     "output_type": "error",
     "traceback": [
      "\u001b[1m\u001b[30m|   \u001b[1m\u001b[30m            (a, b) -> {return\u001b[0m\u001b[1m\u001b[30m\u001b[41m\u001b[0m\u001b[1m\u001b[30m}\u001b[0m",
      "\u001b[1m\u001b[31m非法的表达式开始\u001b[0m",
      ""
     ]
    }
   ],
   "source": [
    "demos2.stream().collect(\n",
    "    Collectors.groupingBy(\n",
    "        Demo::getId,\n",
    "        Collectors.reducing(new Demo(\"a\",0),\n",
    "            (a, b) -> {return}\n",
    "            )));"
   ]
  },
  {
   "cell_type": "code",
   "execution_count": 30,
   "metadata": {},
   "outputs": [
    {
     "data": {
      "text/plain": [
       "(id:a,count:1)"
      ]
     },
     "execution_count": 30,
     "metadata": {},
     "output_type": "execute_result"
    }
   ],
   "source": [
    "new Demo(\"a\",1)"
   ]
  },
  {
   "cell_type": "code",
   "execution_count": 31,
   "metadata": {},
   "outputs": [
    {
     "data": {
      "text/plain": [
       "(id:a,count:2)"
      ]
     },
     "execution_count": 31,
     "metadata": {},
     "output_type": "execute_result"
    }
   ],
   "source": [
    "new Demo(\"a\",2)"
   ]
  },
  {
   "cell_type": "code",
   "execution_count": 32,
   "metadata": {},
   "outputs": [
    {
     "data": {
      "text/plain": [
       "(id:a,count:3)"
      ]
     },
     "execution_count": 32,
     "metadata": {},
     "output_type": "execute_result"
    }
   ],
   "source": [
    "new Demo(\"a\",3)"
   ]
  },
  {
   "cell_type": "code",
   "execution_count": null,
   "metadata": {},
   "outputs": [],
   "source": []
  },
  {
   "cell_type": "code",
   "execution_count": null,
   "metadata": {},
   "outputs": [],
   "source": []
  },
  {
   "cell_type": "code",
   "execution_count": 84,
   "metadata": {},
   "outputs": [],
   "source": [
    "demos2 = new ArrayList<>(demos)"
   ]
  },
  {
   "cell_type": "code",
   "execution_count": 48,
   "metadata": {},
   "outputs": [
    {
     "data": {
      "text/plain": [
       "[(id:a,count:1), (id:b,count:2), (id:c,count:3), (id:a,count:1), (id:b,count:2), (id:c,count:3)]"
      ]
     },
     "execution_count": 48,
     "metadata": {},
     "output_type": "execute_result"
    }
   ],
   "source": [
    "demos2"
   ]
  },
  {
   "cell_type": "code",
   "execution_count": 49,
   "metadata": {},
   "outputs": [
    {
     "data": {
      "text/plain": [
       "{a=[(id:a,count:1), (id:a,count:1)], b=[(id:b,count:2), (id:b,count:2)], c=[(id:c,count:3), (id:c,count:3)]}"
      ]
     },
     "execution_count": 49,
     "metadata": {},
     "output_type": "execute_result"
    }
   ],
   "source": [
    "demos.stream().collect(\n",
    "    Collectors.groupingBy(Demo::getId))"
   ]
  },
  {
   "cell_type": "code",
   "execution_count": 50,
   "metadata": {},
   "outputs": [
    {
     "data": {
      "text/plain": [
       "{a=2, b=2, c=2}"
      ]
     },
     "execution_count": 50,
     "metadata": {},
     "output_type": "execute_result"
    }
   ],
   "source": [
    "demos.stream().collect(\n",
    "    Collectors.groupingBy(\n",
    "        Demo::getId,\n",
    "        Collectors.counting()))"
   ]
  },
  {
   "cell_type": "code",
   "execution_count": 51,
   "metadata": {},
   "outputs": [
    {
     "data": {
      "text/plain": [
       "{a=[(id:a,count:2), (id:a,count:2)], b=[(id:b,count:3), (id:b,count:3)], c=[(id:c,count:4), (id:c,count:4)]}"
      ]
     },
     "execution_count": 51,
     "metadata": {},
     "output_type": "execute_result"
    }
   ],
   "source": [
    "demos2.stream().collect(\n",
    "    Collectors.groupingBy(\n",
    "        Demo::getId,\n",
    "        Collectors.mapping(\n",
    "            (Demo d) -> {d.count++;return d;}, \n",
    "            Collectors.toList())));"
   ]
  },
  {
   "cell_type": "code",
   "execution_count": 78,
   "metadata": {},
   "outputs": [
    {
     "data": {
      "text/plain": [
       "{a=4, b=6, c=8}"
      ]
     },
     "execution_count": 78,
     "metadata": {},
     "output_type": "execute_result"
    }
   ],
   "source": [
    "demos2.stream().collect(\n",
    "    Collectors.groupingBy(\n",
    "        Demo::getId,\n",
    "        Collectors.summingInt(Demo::getCount)\n",
    "    )\n",
    ")"
   ]
  },
  {
   "cell_type": "code",
   "execution_count": 1,
   "metadata": {},
   "outputs": [
    {
     "ename": "CompilationException",
     "evalue": "",
     "output_type": "error",
     "traceback": [
      "\u001b[1m\u001b[30m|   \u001b[1m\u001b[30m\u001b[0m\u001b[1m\u001b[30m\u001b[41mdemos2\u001b[0m\u001b[1m\u001b[30m.stream().collect(\u001b[0m",
      "\u001b[1m\u001b[31m找不到符号\u001b[0m",
      "\u001b[1m\u001b[31m  符号:   变量 demos2\u001b[0m",
      "\u001b[1m\u001b[31m  位置: 类 \u001b[0m",
      "",
      "\u001b[1m\u001b[30m|   \u001b[1m\u001b[30m    \u001b[0m\u001b[1m\u001b[30m\u001b[41mCollectors\u001b[0m\u001b[1m\u001b[30m.groupingBy(\u001b[0m",
      "\u001b[1m\u001b[31m找不到符号\u001b[0m",
      "\u001b[1m\u001b[31m  符号:   变量 Collectors\u001b[0m",
      "\u001b[1m\u001b[31m  位置: 类 \u001b[0m",
      "",
      "\u001b[1m\u001b[30m|   \u001b[1m\u001b[30m        \u001b[0m\u001b[1m\u001b[30m\u001b[41mDemo\u001b[0m\u001b[1m\u001b[30m::getId,\u001b[0m",
      "\u001b[1m\u001b[31m找不到符号\u001b[0m",
      "\u001b[1m\u001b[31m  符号:   变量 Demo\u001b[0m",
      "\u001b[1m\u001b[31m  位置: 类 \u001b[0m",
      "",
      "\u001b[1m\u001b[30m|   \u001b[1m\u001b[30m        \u001b[0m\u001b[1m\u001b[30m\u001b[41mCollectors\u001b[0m\u001b[1m\u001b[30m.summingInt(Demo::getCount)))\u001b[0m",
      "\u001b[1m\u001b[31m找不到符号\u001b[0m",
      "\u001b[1m\u001b[31m  符号:   变量 Collectors\u001b[0m",
      "\u001b[1m\u001b[31m  位置: 类 \u001b[0m",
      "",
      "\u001b[1m\u001b[30m|   \u001b[1m\u001b[30m        Collectors.summingInt(\u001b[0m\u001b[1m\u001b[30m\u001b[41mDemo\u001b[0m\u001b[1m\u001b[30m::getCount)))\u001b[0m",
      "\u001b[1m\u001b[31m找不到符号\u001b[0m",
      "\u001b[1m\u001b[31m  符号:   变量 Demo\u001b[0m",
      "\u001b[1m\u001b[31m  位置: 类 \u001b[0m",
      "",
      "\u001b[1m\u001b[30m|   \u001b[1m\u001b[30m    .map(e -> new \u001b[0m\u001b[1m\u001b[30m\u001b[41mDemo\u001b[0m\u001b[1m\u001b[30m(e.getKey(),e.getValue()))\u001b[0m",
      "\u001b[1m\u001b[31m找不到符号\u001b[0m",
      "\u001b[1m\u001b[31m  符号:   类 Demo\u001b[0m",
      "\u001b[1m\u001b[31m  位置: 类 \u001b[0m",
      "",
      "\u001b[1m\u001b[30m|   \u001b[1m\u001b[30m    .collect(\u001b[0m\u001b[1m\u001b[30m\u001b[41mCollectors\u001b[0m\u001b[1m\u001b[30m.toList());\u001b[0m",
      "\u001b[1m\u001b[31m找不到符号\u001b[0m",
      "\u001b[1m\u001b[31m  符号:   变量 Collectors\u001b[0m",
      "\u001b[1m\u001b[31m  位置: 类 \u001b[0m",
      ""
     ]
    }
   ],
   "source": [
    "demos2.stream().collect(\n",
    "    Collectors.groupingBy(\n",
    "        Demo::getId,\n",
    "        Collectors.summingInt(Demo::getCount)))\n",
    "    .entrySet().stream()\n",
    "    .map(e -> new Demo(e.getKey(),e.getValue()))\n",
    "    .collect(Collectors.toList());"
   ]
  },
  {
   "cell_type": "code",
   "execution_count": 60,
   "metadata": {},
   "outputs": [
    {
     "data": {
      "text/plain": [
       "18"
      ]
     },
     "execution_count": 60,
     "metadata": {},
     "output_type": "execute_result"
    }
   ],
   "source": [
    "demos2.stream().collect(Collectors.summingInt(Demo::getCount))"
   ]
  },
  {
   "cell_type": "code",
   "execution_count": null,
   "metadata": {},
   "outputs": [],
   "source": []
  }
 ],
 "metadata": {
  "kernelspec": {
   "display_name": "Java",
   "language": "java",
   "name": "java"
  },
  "language_info": {
   "codemirror_mode": "java",
   "file_extension": ".jshell",
   "mimetype": "text/x-java-source",
   "name": "Java",
   "pygments_lexer": "java",
   "version": "9.0.1+11"
  }
 },
 "nbformat": 4,
 "nbformat_minor": 4
}
